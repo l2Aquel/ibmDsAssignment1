{
 "cells": [
  {
   "cell_type": "markdown",
   "id": "3c25d633-897e-4e5a-85eb-bf808ee7aacd",
   "metadata": {},
   "source": [
    "<h1>Data Science Tools and Ecosystem</h1>"
   ]
  },
  {
   "cell_type": "markdown",
   "id": "686f04fa-96cd-4548-aa1d-51c76559240c",
   "metadata": {},
   "source": [
    "In this notebook, Data Science Tools and Ecosystem are summarized."
   ]
  },
  {
   "cell_type": "markdown",
   "id": "d3a0ec01-81bd-476d-85ab-d98b9a4b7f90",
   "metadata": {
    "tags": []
   },
   "source": [
    "**Objectives:**\n",
    "<ul>\n",
    "<li>Python</li>\n",
    "<li>R</li>\n",
    "<li>SQL</li>\n",
    "<li>Julia</li>\n",
    "<li>Scala</li>\n",
    "<li>Matlab</li>\n",
    "</ul>"
   ]
  },
  {
   "cell_type": "markdown",
   "id": "5bd1659b-ce76-49de-8b01-beb32550f052",
   "metadata": {},
   "source": [
    "Some of the popular languages that Data Scientists use are:\n",
    "<ol>\n",
    "<li>Python</li>\n",
    "<li>R</li>\n",
    "<li>SQL</li>\n",
    "<li>Scala</li>\n",
    "<li>Julia</li>\n",
    "</ol>"
   ]
  },
  {
   "cell_type": "markdown",
   "id": "22444a01-e7d4-4173-b06c-dc3f75a84eeb",
   "metadata": {},
   "source": [
    "Some of the commonly used libraries used by Data Scientists include:\n",
    "<ol>\n",
    "<li>Dplyr</li>\n",
    "<li>Ggplot2</li>\n",
    "<li>Matplotlib</li>\n",
    "<li>Pandas</li>\n",
    "<li>Numpy</li>\n",
    "<li>Scikit-learn</li>\n",
    "<li>BeautifulSoup</li>\n",
    "<li>Tensorflow</li>\n",
    "<li>Scipy</li>\n",
    "</ol>"
   ]
  },
  {
   "cell_type": "markdown",
   "id": "f62bb104-f142-4dfa-a289-403e4eeb8f5f",
   "metadata": {},
   "source": [
    "<table>\n",
    "<tr>\n",
    "<th>Data Science Tools</th>\n",
    "</tr>\n",
    "\n",
    "<tr>\n",
    "<td>RStudio</td>\n",
    "</tr>\n",
    "\n",
    "<tr>\n",
    "<td>Jupyter Notebook</td>\n",
    "</tr>\n",
    "    \n",
    "<tr>\n",
    "<td>Apache Hadoop</td>\n",
    "</tr> \n",
    "</table>"
   ]
  },
  {
   "cell_type": "markdown",
   "id": "3bf71237-155b-4770-998a-8caa0fcccba0",
   "metadata": {
    "tags": []
   },
   "source": [
    "<h3>Below are a few examples of evaluating arithmetic expressions in Python</h3>"
   ]
  },
  {
   "cell_type": "code",
   "execution_count": 1,
   "id": "116492df-108e-49bc-8f74-0d89f6d77799",
   "metadata": {
    "tags": []
   },
   "outputs": [
    {
     "data": {
      "text/plain": [
       "17"
      ]
     },
     "execution_count": 1,
     "metadata": {},
     "output_type": "execute_result"
    }
   ],
   "source": [
    "#This a simple arithmetic expression to mutiply then add integers\n",
    "(3*4)+5"
   ]
  },
  {
   "cell_type": "code",
   "execution_count": 4,
   "id": "6185211d-627d-4460-8f60-e32e3d73908c",
   "metadata": {
    "tags": []
   },
   "outputs": [
    {
     "data": {
      "text/plain": [
       "3.3333333333333335"
      ]
     },
     "execution_count": 4,
     "metadata": {},
     "output_type": "execute_result"
    }
   ],
   "source": [
    "#This will convert 200 minutes to hours by diving by 60\n",
    "hours=200\n",
    "hoursToMins=200/60\n",
    "hoursToMins"
   ]
  },
  {
   "cell_type": "markdown",
   "id": "d99ada30-c9b8-45c4-b301-a85123424ef5",
   "metadata": {
    "tags": []
   },
   "source": [
    "<h2>Authors</h2>\n",
    "Divya Prakash"
   ]
  },
  {
   "cell_type": "code",
   "execution_count": null,
   "id": "965a28c0-de30-4dc0-8d43-feddd2558daf",
   "metadata": {},
   "outputs": [],
   "source": []
  }
 ],
 "metadata": {
  "kernelspec": {
   "display_name": "Python",
   "language": "python",
   "name": "conda-env-python-py"
  },
  "language_info": {
   "codemirror_mode": {
    "name": "ipython",
    "version": 3
   },
   "file_extension": ".py",
   "mimetype": "text/x-python",
   "name": "python",
   "nbconvert_exporter": "python",
   "pygments_lexer": "ipython3",
   "version": "3.7.12"
  }
 },
 "nbformat": 4,
 "nbformat_minor": 5
}
